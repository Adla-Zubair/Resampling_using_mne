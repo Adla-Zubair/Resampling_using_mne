{
  "nbformat": 4,
  "nbformat_minor": 0,
  "metadata": {
    "colab": {
      "provenance": [],
      "authorship_tag": "ABX9TyMJBLE6uQjx1DE6QOxQvrHA",
      "include_colab_link": true
    },
    "kernelspec": {
      "name": "python3",
      "display_name": "Python 3"
    },
    "language_info": {
      "name": "python"
    }
  },
  "cells": [
    {
      "cell_type": "markdown",
      "metadata": {
        "id": "view-in-github",
        "colab_type": "text"
      },
      "source": [
        "<a href=\"https://colab.research.google.com/github/Adla-Zubair/Resampling_using_mne/blob/main/Resampling_using_mne.ipynb\" target=\"_parent\"><img src=\"https://colab.research.google.com/assets/colab-badge.svg\" alt=\"Open In Colab\"/></a>"
      ]
    },
    {
      "cell_type": "code",
      "source": [
        "!pip install mne"
      ],
      "metadata": {
        "id": "wMo2PXDAJP63"
      },
      "execution_count": null,
      "outputs": []
    },
    {
      "cell_type": "code",
      "source": [
        "!pip install pyedflib"
      ],
      "metadata": {
        "id": "B9SgOfjUNOY5"
      },
      "execution_count": null,
      "outputs": []
    },
    {
      "cell_type": "code",
      "source": [
        "import mne\n",
        "from mne.io import RawArray\n",
        "#from mne.channels import Info\n",
        "from pyedflib import highlevel"
      ],
      "metadata": {
        "id": "4szbbDm8JZZh"
      },
      "execution_count": null,
      "outputs": []
    },
    {
      "cell_type": "code",
      "source": [
        "file = '/content/FA7310SO_0001.edf'"
      ],
      "metadata": {
        "id": "2Y8qeENO4lB-"
      },
      "execution_count": null,
      "outputs": []
    },
    {
      "cell_type": "code",
      "source": [
        "raw = mne.io.read_raw_edf(file, preload= True)"
      ],
      "metadata": {
        "id": "-irissur4jR-"
      },
      "execution_count": null,
      "outputs": []
    },
    {
      "cell_type": "code",
      "source": [
        "raw_eeg = raw.resample(sfreq=250)"
      ],
      "metadata": {
        "id": "dC4NIcuc4nkm"
      },
      "execution_count": null,
      "outputs": []
    },
    {
      "cell_type": "code",
      "source": [
        "# Save the modified EEG data to your desktop\n",
        "output_path = '/content/raw_eeg.fif'  # Replace with your desired path\n",
        "raw.save(output_path, overwrite=True)"
      ],
      "metadata": {
        "id": "mFdHvokXJ2U6"
      },
      "execution_count": null,
      "outputs": []
    },
    {
      "cell_type": "code",
      "source": [],
      "metadata": {
        "id": "d7WRoYJhO26M"
      },
      "execution_count": null,
      "outputs": []
    }
  ]
}